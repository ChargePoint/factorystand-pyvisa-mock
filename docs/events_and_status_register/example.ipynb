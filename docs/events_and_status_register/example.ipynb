{
 "cells": [
  {
   "cell_type": "markdown",
   "metadata": {},
   "source": [
    "# Introduction \n",
    "This notebooks shows a basic example of how events and the status byte work.\n",
    "\n"
   ]
  },
  {
   "cell_type": "code",
   "execution_count": 1,
   "metadata": {},
   "outputs": [],
   "source": [
    "import visa_mock as pyvisa_mock\n",
    "import time\n",
    "\n",
    "from pyvisa import ResourceManager\n",
    "\n",
    "from visa_mock.base.register import register_resource\n",
    "\n",
    "from geiger_counter_mock import GeigerCounterMock\n",
    "\n",
    "gc_address = 'MOCK0::mock1::INSTR'\n",
    "register_resource(gc_address, GeigerCounterMock())"
   ]
  },
  {
   "cell_type": "code",
   "execution_count": 2,
   "metadata": {},
   "outputs": [
    {
     "name": "stdout",
     "output_type": "stream",
     "text": [
      "geiger counter:fake corp:123456\n"
     ]
    }
   ],
   "source": [
    "rm = ResourceManager('@mock')\n",
    "rm.list_resources()\n",
    "inst = rm.open_resource(gc_address)\n",
    "print(inst.query('*IDN?'))"
   ]
  },
  {
   "cell_type": "code",
   "execution_count": 3,
   "metadata": {},
   "outputs": [
    {
     "data": {
      "text/plain": [
       "'0.0'"
      ]
     },
     "execution_count": 3,
     "metadata": {},
     "output_type": "execute_result"
    }
   ],
   "source": [
    "inst.query('ALERT:EXPOSURE:THRESHOLD?')"
   ]
  },
  {
   "cell_type": "code",
   "execution_count": 4,
   "metadata": {},
   "outputs": [
    {
     "name": "stdout",
     "output_type": "stream",
     "text": [
      "1600465369.0363793\n",
      "-61.100593458708026\n",
      "-61.100593458708026\n",
      "-61.100593458708026\n",
      "-61.100593458708026\n",
      "-61.100593458708026\n",
      "-61.100593458708026\n",
      "-61.100593458708026\n",
      "-61.100593458708026\n",
      "-61.100593458708026\n",
      "-61.100593458708026\n",
      "-61.100593458708026\n",
      "-61.100593458708026\n",
      "-61.100593458708026\n",
      "-61.100593458708026\n",
      "-61.100593458708026\n",
      "-61.100593458708026\n",
      "-61.100593458708026\n",
      "-61.100593458708026\n",
      "-61.100593458708026\n",
      "-61.100593458708026\n",
      "-61.100593458708026\n",
      "-61.100593458708026\n",
      "-61.100593458708026\n",
      "-61.100593458708026\n",
      "-61.100593458708026\n",
      "-61.100593458708026\n",
      "-61.100593458708026\n",
      "-61.100593458708026\n",
      "-61.100593458708026\n",
      "-61.100593458708026\n",
      "-61.100593458708026\n",
      "-61.100593458708026\n",
      "-61.100593458708026\n",
      "-61.100593458708026\n",
      "-61.100593458708026\n",
      "-61.100593458708026\n",
      "-61.100593458708026\n",
      "-61.100593458708026\n",
      "-61.100593458708026\n",
      "-61.100593458708026\n",
      "-61.100593458708026\n",
      "-61.100593458708026\n",
      "-61.100593458708026\n",
      "-61.100593458708026\n",
      "-61.100593458708026\n",
      "-61.100593458708026\n",
      "-61.100593458708026\n",
      "-61.100593458708026\n",
      "-61.100593458708026\n",
      "-61.100593458708026\n",
      "-61.100593458708026\n",
      "-61.100593458708026\n",
      "-61.100593458708026\n",
      "-61.100593458708026\n",
      "-61.100593458708026\n",
      "-61.100593458708026\n",
      "-61.100593458708026\n",
      "-61.100593458708026\n",
      "-61.100593458708026\n",
      "-61.100593458708026\n",
      "-61.100593458708026\n",
      "-61.100593458708026\n",
      "-61.100593458708026\n",
      "-61.100593458708026\n",
      "-61.100593458708026\n",
      "-61.100593458708026\n",
      "-61.100593458708026\n",
      "-61.100593458708026\n",
      "-61.100593458708026\n",
      "-61.100593458708026\n",
      "-61.100593458708026\n",
      "-61.100593458708026\n",
      "-61.100593458708026\n",
      "-61.100593458708026\n",
      "-61.100593458708026\n",
      "-61.100593458708026\n",
      "-61.100593458708026\n",
      "-61.100593458708026\n",
      "-61.100593458708026\n",
      "-61.100593458708026\n",
      "-61.100593458708026\n",
      "-61.100593458708026\n",
      "-61.100593458708026\n",
      "-61.100593458708026\n",
      "-61.100593458708026\n",
      "-61.100593458708026\n",
      "-61.100593458708026\n",
      "-61.100593458708026\n",
      "-61.100593458708026\n",
      "-61.100593458708026\n",
      "-61.100593458708026\n",
      "-61.100593458708026\n",
      "-61.100593458708026\n",
      "-61.100593458708026\n",
      "-61.100593458708026\n",
      "-61.100593458708026\n",
      "-61.100593458708026\n",
      "-61.100593458708026\n",
      "-61.100593458708026\n",
      "-61.100593458708026\n"
     ]
    }
   ],
   "source": [
    "inst.write('MEAS:START')\n",
    "for i in range(100):\n",
    "    print(inst.query('MEAS:READING?'))\n",
    "    time.sleep(.1)"
   ]
  },
  {
   "cell_type": "code",
   "execution_count": null,
   "metadata": {},
   "outputs": [],
   "source": []
  },
  {
   "cell_type": "code",
   "execution_count": null,
   "metadata": {},
   "outputs": [],
   "source": []
  },
  {
   "cell_type": "code",
   "execution_count": null,
   "metadata": {},
   "outputs": [],
   "source": []
  }
 ],
 "metadata": {
  "kernelspec": {
   "display_name": "Python 3",
   "language": "python",
   "name": "python3"
  },
  "language_info": {
   "codemirror_mode": {
    "name": "ipython",
    "version": 3
   },
   "file_extension": ".py",
   "mimetype": "text/x-python",
   "name": "python",
   "nbconvert_exporter": "python",
   "pygments_lexer": "ipython3",
   "version": "3.7.4"
  }
 },
 "nbformat": 4,
 "nbformat_minor": 4
}
