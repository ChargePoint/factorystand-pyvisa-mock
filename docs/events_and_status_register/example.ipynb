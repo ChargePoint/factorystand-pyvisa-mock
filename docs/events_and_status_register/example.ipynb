{
 "cells": [
  {
   "cell_type": "markdown",
   "metadata": {},
   "source": [
    "# Introduction \n",
    "This notebooks shows a basic example of how events and the status byte work.\n",
    "\n"
   ]
  },
  {
   "cell_type": "code",
   "execution_count": 1,
   "metadata": {},
   "outputs": [],
   "source": [
    "import visa_mock as pyvisa_mock\n",
    "import time\n",
    "\n",
    "from pyvisa import ResourceManager\n",
    "from pyvisa.errors import VisaIOError\n",
    "from pyvisa.constants import StatusCode\n",
    "\n",
    "from visa_mock.base.register import register_resource\n",
    "\n",
    "from geiger_counter_mock import GeigerCounterMock, MessageCode\n",
    "\n",
    "gc_address = 'MOCK0::mock1::INSTR'\n",
    "register_resource(gc_address, GeigerCounterMock())"
   ]
  },
  {
   "cell_type": "code",
   "execution_count": 2,
   "metadata": {
    "scrolled": true
   },
   "outputs": [
    {
     "name": "stdout",
     "output_type": "stream",
     "text": [
      "geiger counter:fake corp:123456\n"
     ]
    }
   ],
   "source": [
    "rm = ResourceManager('@mock')\n",
    "rm.list_resources()\n",
    "inst = rm.open_resource(gc_address)\n",
    "print(inst.query('*IDN?'))"
   ]
  },
  {
   "cell_type": "code",
   "execution_count": 3,
   "metadata": {},
   "outputs": [
    {
     "name": "stdout",
     "output_type": "stream",
     "text": [
      "5.01\n"
     ]
    },
    {
     "data": {
      "text/plain": [
       "(25, <StatusCode.success: 0>)"
      ]
     },
     "execution_count": 3,
     "metadata": {},
     "output_type": "execute_result"
    }
   ],
   "source": [
    "inst.write('ALERT:EXPOSURE:THRESHOLD 5.01')\n",
    "print(inst.query('ALERT:EXPOSURE:THRESHOLD?'))\n",
    "inst.write('ALERT:READING:THRESHOLD 0') # Disable reading threshold"
   ]
  },
  {
   "cell_type": "markdown",
   "metadata": {},
   "source": [
    "The following block waits for an exposure limit to be hit.  The device triggers a srq when this threshold is reached, which will allow the \"wait_for_srq\" to return without exception.  In most applications the SRQ should be polled in a seperate thread to allow non-blocking opperation.  In this example we will just wait for the srq to return."
   ]
  },
  {
   "cell_type": "code",
   "execution_count": 10,
   "metadata": {},
   "outputs": [
    {
     "name": "stdout",
     "output_type": "stream",
     "text": [
      "Waiting for exposure limit...\n",
      "SRQ Hit! (stb:0x41)\n",
      "Exposure threshold reached after 7.11769437789917 seconds. (exposure:5.030765926327754)\n",
      "Done\n"
     ]
    }
   ],
   "source": [
    "try:\n",
    "    inst.write('MEAS:EXPOSURE:RESET')\n",
    "    start_time = time.time()\n",
    "    inst.write('MEAS:START')\n",
    "\n",
    "    print('Waiting for exposure limit...')\n",
    "    try:\n",
    "        inst.wait_for_srq(timeout=10000) # Wait 10 seconds\n",
    "    except VisaIOError as e:\n",
    "        if e.error_code == StatusCode.error_timeout:\n",
    "            print('No exposure limit reached!')\n",
    "        else:\n",
    "            raise e\n",
    "    else:\n",
    "        end_time = time.time()\n",
    "        elapsted_time = end_time - start_time\n",
    "        stb = inst.stb\n",
    "        exposure = inst.query(\"MEAS:EXPOSURE?\")\n",
    "        print(f'SRQ Hit! (stb:{hex(stb)})')\n",
    "        if stb & MessageCode.READING_LIMIT_EXCEEDED.value:\n",
    "            print('Reading threshold reached after {elapsted_time} seconds.')\n",
    "        if stb & MessageCode.EXPOSURE_LIMIT_EXCEEDED.value:\n",
    "            print(f'Exposure threshold reached after {elapsted_time} seconds. (exposure:{exposure})')\n",
    "            inst.write('MEAS:EXPOSURE:RESET')\n",
    "        # Clear the status byte register\n",
    "        inst.write('*CLS')\n",
    "finally:\n",
    "    inst.write('MEAS:STOP')\n",
    "    print('Done')\n"
   ]
  }
 ],
 "metadata": {
  "kernelspec": {
   "display_name": "Python 3",
   "language": "python",
   "name": "python3"
  },
  "language_info": {
   "codemirror_mode": {
    "name": "ipython",
    "version": 3
   },
   "file_extension": ".py",
   "mimetype": "text/x-python",
   "name": "python",
   "nbconvert_exporter": "python",
   "pygments_lexer": "ipython3",
   "version": "3.7.4"
  }
 },
 "nbformat": 4,
 "nbformat_minor": 4
}
