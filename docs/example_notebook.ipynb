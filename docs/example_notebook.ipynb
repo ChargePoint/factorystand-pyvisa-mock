{
 "cells": [
  {
   "cell_type": "markdown",
   "metadata": {},
   "source": [
    "# Introduction \n",
    "\n",
    "This example requires QCoDeS"
   ]
  },
  {
   "cell_type": "code",
   "execution_count": 1,
   "metadata": {},
   "outputs": [],
   "source": [
    "from collections import defaultdict\n",
    "import numpy as np \n",
    "\n",
    "from visa_mock.base.base_mocker import BaseMocker, scpi\n",
    "from visa_mock.base.register import register_resource\n",
    "from qcodes import VisaInstrument, InstrumentChannel\n",
    "from qcodes.instrument_drivers.stahl import Stahl"
   ]
  },
  {
   "cell_type": "markdown",
   "metadata": {},
   "source": [
    "The following is an example of a multi-channel voltage source. Notice that we can modularize the \n",
    "mocker, whereby each channel is handled by its own object. "
   ]
  },
  {
   "cell_type": "code",
   "execution_count": 3,
   "metadata": {},
   "outputs": [],
   "source": [
    "class MockerChannel(BaseMocker): \n",
    "    \"\"\"\n",
    "    A mocker channel for a multi channel voltage source. \n",
    "    Voltages are zero by default\n",
    "    \"\"\"\n",
    "    \n",
    "    def __init__(self): \n",
    "        self._voltage = 0\n",
    "    \n",
    "    # Lets define handler functions. Notice how we can be \n",
    "    # lazy in our regular expressions (using \".*\"). The \n",
    "    # typehints will be used to cast strings to the \n",
    "    # required types\n",
    "    \n",
    "    @scpi(r\":VOLT (.*)\") #  E.g. handle ':INSTR:CHANNEL1:VOLT 2.3' \n",
    "    def _set_voltage(self, value: float) -> None:\n",
    "        self._voltage = value\n",
    "    \n",
    "    @scpi(r\":VOLT\\?\")\n",
    "    def _get_voltage(self) -> float: \n",
    "        return self._voltage\n",
    "\n",
    "\n",
    "class Mocker(BaseMocker):\n",
    "    \"\"\"\n",
    "    The main mocker class. \n",
    "    \"\"\"\n",
    "\n",
    "    def __init__(self):\n",
    "        self._channels = defaultdict(MockerChannel)\n",
    "\n",
    "    @scpi(\"\\*IDN\\?\")\n",
    "    def idn(self) -> str: \n",
    "        \"\"\"\n",
    "        'vendor', 'model', 'serial', 'firmware'\n",
    "        \"\"\"\n",
    "        return \"Mocker,testing,00000,0.01\"\n",
    "    \n",
    "    @scpi(r\":INSTR:CHANNEL(.*)\")\n",
    "    def _get_channel(self, channel: int) -> MockerChannel:\n",
    "        return self._channels[channel] "
   ]
  },
  {
   "cell_type": "markdown",
   "metadata": {},
   "source": [
    "Let's inspect which SCPI commands have been defined "
   ]
  },
  {
   "cell_type": "code",
   "execution_count": 14,
   "metadata": {},
   "outputs": [
    {
     "data": {
      "text/plain": [
       "{'\\\\*IDN\\\\?': <visa_mock.base.base_mocker.SCPIHandler at 0x2c0d0ed61d0>,\n",
       " ':INSTR:CHANNEL(.*):VOLT (.*)': <visa_mock.base.base_mocker.SCPIHandler at 0x2c0d0ed6390>,\n",
       " ':INSTR:CHANNEL(.*):VOLT\\\\?': <visa_mock.base.base_mocker.SCPIHandler at 0x2c0d0ed63c8>}"
      ]
     },
     "execution_count": 14,
     "metadata": {},
     "output_type": "execute_result"
    }
   ],
   "source": [
    "Mocker.__scpi_dict__"
   ]
  },
  {
   "cell_type": "code",
   "execution_count": 4,
   "metadata": {},
   "outputs": [],
   "source": [
    "class MyInstrumentChannel(InstrumentChannel): \n",
    "    def __init__(self, parent, name, channel): \n",
    "        super().__init__(parent, name)\n",
    "        \n",
    "        self.add_parameter(\n",
    "            \"voltage\", \n",
    "            get_cmd=f\":INSTR:CHANNEL{channel}:VOLT?\", \n",
    "            set_cmd=f\":INSTR:CHANNEL{channel}:VOLT {{}}\", \n",
    "            get_parser=float, \n",
    "            unit=\"V\"\n",
    "        )\n",
    "        \n",
    "class MyInstrument(VisaInstrument): \n",
    "    \n",
    "    n_channels = 10\n",
    "    \n",
    "    def __init__(self, name, address, **kwargs): \n",
    "        super().__init__(name, address, **kwargs)\n",
    "        \n",
    "        for channel in range(self.n_channels): \n",
    "            \n",
    "            submodule = MyInstrumentChannel(\n",
    "                self, \n",
    "                f\"channel{channel}\", \n",
    "                channel\n",
    "            )\n",
    "            \n",
    "            self.add_submodule(\n",
    "                f\"channel{channel}\", \n",
    "                submodule\n",
    "            )\n",
    "            \n",
    "        self.connect_message()"
   ]
  },
  {
   "cell_type": "code",
   "execution_count": 5,
   "metadata": {},
   "outputs": [],
   "source": [
    "register_resource(\"MOCK0::mock1::INSTR\", Mocker())"
   ]
  },
  {
   "cell_type": "code",
   "execution_count": 6,
   "metadata": {},
   "outputs": [
    {
     "name": "stdout",
     "output_type": "stream",
     "text": [
      "Connected to: Mocker testing (serial:00000, firmware:0.01) in 0.03s\n"
     ]
    }
   ],
   "source": [
    "my_instrument = MyInstrument(\"myinst\", \"MOCK0::mock1::INSTR\", visalib=\"@mock\")"
   ]
  },
  {
   "cell_type": "code",
   "execution_count": 7,
   "metadata": {},
   "outputs": [
    {
     "data": {
      "text/plain": [
       "0.0"
      ]
     },
     "execution_count": 7,
     "metadata": {},
     "output_type": "execute_result"
    }
   ],
   "source": [
    "my_instrument.channel1.voltage()"
   ]
  },
  {
   "cell_type": "code",
   "execution_count": 8,
   "metadata": {},
   "outputs": [],
   "source": [
    "my_instrument.channel1.voltage(2.1)"
   ]
  },
  {
   "cell_type": "code",
   "execution_count": 9,
   "metadata": {},
   "outputs": [
    {
     "data": {
      "text/plain": [
       "2.1"
      ]
     },
     "execution_count": 9,
     "metadata": {},
     "output_type": "execute_result"
    }
   ],
   "source": [
    "my_instrument.channel1.voltage()"
   ]
  },
  {
   "cell_type": "code",
   "execution_count": 10,
   "metadata": {},
   "outputs": [],
   "source": [
    "my_instrument.channel2.voltage(-2.1)"
   ]
  },
  {
   "cell_type": "code",
   "execution_count": 11,
   "metadata": {},
   "outputs": [
    {
     "data": {
      "text/plain": [
       "-2.1"
      ]
     },
     "execution_count": 11,
     "metadata": {},
     "output_type": "execute_result"
    }
   ],
   "source": [
    "my_instrument.channel2.voltage()"
   ]
  },
  {
   "cell_type": "code",
   "execution_count": 12,
   "metadata": {},
   "outputs": [
    {
     "data": {
      "text/plain": [
       "2.1"
      ]
     },
     "execution_count": 12,
     "metadata": {},
     "output_type": "execute_result"
    }
   ],
   "source": [
    "my_instrument.channel1.voltage()"
   ]
  },
  {
   "cell_type": "code",
   "execution_count": null,
   "metadata": {},
   "outputs": [],
   "source": []
  }
 ],
 "metadata": {
  "kernelspec": {
   "display_name": "Python 3",
   "language": "python",
   "name": "python3"
  },
  "language_info": {
   "codemirror_mode": {
    "name": "ipython",
    "version": 3
   },
   "file_extension": ".py",
   "mimetype": "text/x-python",
   "name": "python",
   "nbconvert_exporter": "python",
   "pygments_lexer": "ipython3",
   "version": "3.6.7"
  }
 },
 "nbformat": 4,
 "nbformat_minor": 2
}
